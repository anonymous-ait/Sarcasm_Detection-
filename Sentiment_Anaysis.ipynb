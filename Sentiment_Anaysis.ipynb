{
  "cells": [
    {
      "cell_type": "markdown",
      "metadata": {
        "id": "view-in-github",
        "colab_type": "text"
      },
      "source": [
        "<a href=\"https://colab.research.google.com/github/anonymous-ait/Sarcasm_Detection-/blob/main/Sentiment_Anaysis.ipynb\" target=\"_parent\"><img src=\"https://colab.research.google.com/assets/colab-badge.svg\" alt=\"Open In Colab\"/></a>"
      ]
    },
    {
      "cell_type": "code",
      "execution_count": null,
      "metadata": {
        "colab": {
          "base_uri": "https://localhost:8080/"
        },
        "id": "-yC4P9Xtgmu6",
        "outputId": "73b6ae6f-5845-41be-fdb8-a1e5c662a6d7"
      },
      "outputs": [
        {
          "name": "stdout",
          "output_type": "stream",
          "text": [
            "Looking in indexes: https://pypi.org/simple, https://us-python.pkg.dev/colab-wheels/public/simple/\n",
            "Requirement already satisfied: gensim in /usr/local/lib/python3.10/dist-packages (4.3.1)\n",
            "Requirement already satisfied: numpy>=1.18.5 in /usr/local/lib/python3.10/dist-packages (from gensim) (1.22.4)\n",
            "Requirement already satisfied: scipy>=1.7.0 in /usr/local/lib/python3.10/dist-packages (from gensim) (1.10.1)\n",
            "Requirement already satisfied: smart-open>=1.8.1 in /usr/local/lib/python3.10/dist-packages (from gensim) (6.3.0)\n",
            "Looking in indexes: https://pypi.org/simple, https://us-python.pkg.dev/colab-wheels/public/simple/\n",
            "Requirement already satisfied: keras in /usr/local/lib/python3.10/dist-packages (2.12.0)\n",
            "Looking in indexes: https://pypi.org/simple, https://us-python.pkg.dev/colab-wheels/public/simple/\n",
            "Requirement already satisfied: pandas in /usr/local/lib/python3.10/dist-packages (1.5.3)\n",
            "Collecting pandas\n",
            "  Downloading pandas-2.0.1-cp310-cp310-manylinux_2_17_x86_64.manylinux2014_x86_64.whl (12.3 MB)\n",
            "\u001b[2K     \u001b[90m━━━━━━━━━━━━━━━━━━━━━━━━━━━━━━━━━━━━━━━━\u001b[0m \u001b[32m12.3/12.3 MB\u001b[0m \u001b[31m63.1 MB/s\u001b[0m eta \u001b[36m0:00:00\u001b[0m\n",
            "\u001b[?25hRequirement already satisfied: python-dateutil>=2.8.2 in /usr/local/lib/python3.10/dist-packages (from pandas) (2.8.2)\n",
            "Requirement already satisfied: pytz>=2020.1 in /usr/local/lib/python3.10/dist-packages (from pandas) (2022.7.1)\n",
            "Requirement already satisfied: tzdata>=2022.1 in /usr/local/lib/python3.10/dist-packages (from pandas) (2023.3)\n",
            "Requirement already satisfied: numpy>=1.21.0 in /usr/local/lib/python3.10/dist-packages (from pandas) (1.22.4)\n",
            "Requirement already satisfied: six>=1.5 in /usr/local/lib/python3.10/dist-packages (from python-dateutil>=2.8.2->pandas) (1.16.0)\n",
            "Installing collected packages: pandas\n",
            "  Attempting uninstall: pandas\n",
            "    Found existing installation: pandas 1.5.3\n",
            "    Uninstalling pandas-1.5.3:\n",
            "      Successfully uninstalled pandas-1.5.3\n",
            "\u001b[31mERROR: pip's dependency resolver does not currently take into account all the packages that are installed. This behaviour is the source of the following dependency conflicts.\n",
            "google-colab 1.0.0 requires pandas~=1.5.3, but you have pandas 2.0.1 which is incompatible.\u001b[0m\u001b[31m\n",
            "\u001b[0mSuccessfully installed pandas-2.0.1\n",
            "Looking in indexes: https://pypi.org/simple, https://us-python.pkg.dev/colab-wheels/public/simple/\n",
            "Collecting keras_preprocessing\n",
            "  Downloading Keras_Preprocessing-1.1.2-py2.py3-none-any.whl (42 kB)\n",
            "\u001b[2K     \u001b[90m━━━━━━━━━━━━━━━━━━━━━━━━━━━━━━━━━━━━━━━━\u001b[0m \u001b[32m42.6/42.6 kB\u001b[0m \u001b[31m2.2 MB/s\u001b[0m eta \u001b[36m0:00:00\u001b[0m\n",
            "\u001b[?25hRequirement already satisfied: numpy>=1.9.1 in /usr/local/lib/python3.10/dist-packages (from keras_preprocessing) (1.22.4)\n",
            "Requirement already satisfied: six>=1.9.0 in /usr/local/lib/python3.10/dist-packages (from keras_preprocessing) (1.16.0)\n",
            "Installing collected packages: keras_preprocessing\n",
            "Successfully installed keras_preprocessing-1.1.2\n"
          ]
        }
      ],
      "source": [
        "!pip install gensim --upgrade\n",
        "!pip install keras --upgrade\n",
        "!pip install pandas --upgrade\n",
        "!pip install keras_preprocessing --upgrade"
      ]
    },
    {
      "cell_type": "code",
      "execution_count": null,
      "metadata": {
        "id": "kzzFjhmrh9rP"
      },
      "outputs": [],
      "source": [
        "# DataFrame\n",
        "import pandas as pd\n",
        "\n",
        "# Matplot\n",
        "import matplotlib.pyplot as plt\n",
        "%matplotlib inline\n",
        "\n",
        "# Scikit-learn\n",
        "from sklearn.model_selection import train_test_split\n",
        "from sklearn.preprocessing import LabelEncoder\n",
        "from sklearn.metrics import confusion_matrix, classification_report, accuracy_score\n",
        "from sklearn.manifold import TSNE\n",
        "from sklearn.feature_extraction.text import TfidfVectorizer\n",
        "\n",
        "# Keras\n",
        "from keras.preprocessing.text import Tokenizer\n",
        "from keras_preprocessing.sequence import pad_sequences\n",
        "from keras.models import Sequential\n",
        "from keras.layers import Activation, Dense, Dropout, Embedding, Flatten, Conv1D, MaxPooling1D, LSTM\n",
        "from keras import utils\n",
        "from keras.callbacks import ReduceLROnPlateau, EarlyStopping\n",
        "\n",
        "# nltk\n",
        "import nltk\n",
        "from nltk.corpus import stopwords\n",
        "from  nltk.stem import SnowballStemmer\n",
        "\n",
        "# Word2vec\n",
        "import gensim\n",
        "\n",
        "# Utility\n",
        "import re\n",
        "import numpy as np\n",
        "import os\n",
        "from collections import Counter\n",
        "import logging\n",
        "import time\n",
        "import pickle\n",
        "import itertools\n",
        "\n",
        "# Set log\n",
        "logging.basicConfig(format='%(asctime)s : %(levelname)s : %(message)s', level=logging.INFO)"
      ]
    },
    {
      "cell_type": "code",
      "execution_count": null,
      "metadata": {
        "colab": {
          "base_uri": "https://localhost:8080/"
        },
        "id": "LWtQGErrjAK8",
        "outputId": "395dd77d-0f75-44f4-f716-dfe7c992324b"
      },
      "outputs": [
        {
          "name": "stderr",
          "output_type": "stream",
          "text": [
            "[nltk_data] Downloading package stopwords to /root/nltk_data...\n",
            "[nltk_data]   Unzipping corpora/stopwords.zip.\n"
          ]
        },
        {
          "data": {
            "text/plain": [
              "True"
            ]
          },
          "execution_count": 7,
          "metadata": {},
          "output_type": "execute_result"
        }
      ],
      "source": [
        "nltk.download('stopwords')"
      ]
    },
    {
      "cell_type": "code",
      "execution_count": null,
      "metadata": {
        "colab": {
          "background_save": true
        },
        "id": "qAPGReLqjNxT"
      },
      "outputs": [],
      "source": [
        "# DATASET\n",
        "DATASET_COLUMNS = [\"target\", \"ids\", \"date\", \"flag\", \"user\", \"text\"]\n",
        "DATASET_ENCODING = \"ISO-8859-1\"\n",
        "TRAIN_SIZE = 0.8\n",
        "\n",
        "# TEXT CLENAING\n",
        "TEXT_CLEANING_RE = \"@\\S+|https?:\\S+|http?:\\S|[^A-Za-z0-9]+\"\n",
        "\n",
        "# WORD2VEC \n",
        "W2V_SIZE = 300\n",
        "W2V_WINDOW = 7\n",
        "W2V_EPOCH = 32\n",
        "W2V_MIN_COUNT = 10\n",
        "\n",
        "# KERAS\n",
        "SEQUENCE_LENGTH = 300\n",
        "EPOCHS = 8\n",
        "BATCH_SIZE = 1024\n",
        "\n",
        "# SENTIMENT\n",
        "POSITIVE = \"POSITIVE\"\n",
        "NEGATIVE = \"NEGATIVE\"\n",
        "NEUTRAL = \"NEUTRAL\"\n",
        "SENTIMENT_THRESHOLDS = (0.4, 0.7)\n",
        "\n",
        "# EXPORT\n",
        "KERAS_MODEL = \"model.h5\"\n",
        "WORD2VEC_MODEL = \"model.w2v\"\n",
        "TOKENIZER_MODEL = \"tokenizer.pkl\"\n",
        "ENCODER_MODEL = \"encoder.pkl\""
      ]
    },
    {
      "cell_type": "code",
      "execution_count": null,
      "metadata": {
        "id": "U8A3_EKAjUtH"
      },
      "outputs": [],
      "source": [
        "df = pd.read_csv('all-data.csv', encoding =DATASET_ENCODING , names=DATASET_COLUMNS)\n",
        "df=df[1:]"
      ]
    },
    {
      "cell_type": "code",
      "execution_count": null,
      "metadata": {
        "colab": {
          "base_uri": "https://localhost:8080/",
          "height": 223
        },
        "id": "cBqrMXmmtcba",
        "outputId": "19500886-2660-4c02-f1f1-7587e48cd1d4"
      },
      "outputs": [
        {
          "name": "stdout",
          "output_type": "stream",
          "text": [
            "Dataset size: 4845\n"
          ]
        },
        {
          "data": {
            "text/html": [
              "\n",
              "  <div id=\"df-b177729b-5859-4176-bfbb-20c1bdf6d67e\">\n",
              "    <div class=\"colab-df-container\">\n",
              "      <div>\n",
              "<style scoped>\n",
              "    .dataframe tbody tr th:only-of-type {\n",
              "        vertical-align: middle;\n",
              "    }\n",
              "\n",
              "    .dataframe tbody tr th {\n",
              "        vertical-align: top;\n",
              "    }\n",
              "\n",
              "    .dataframe thead th {\n",
              "        text-align: right;\n",
              "    }\n",
              "</style>\n",
              "<table border=\"1\" class=\"dataframe\">\n",
              "  <thead>\n",
              "    <tr style=\"text-align: right;\">\n",
              "      <th></th>\n",
              "      <th>target</th>\n",
              "      <th>ids</th>\n",
              "      <th>date</th>\n",
              "      <th>flag</th>\n",
              "      <th>user</th>\n",
              "      <th>text</th>\n",
              "    </tr>\n",
              "  </thead>\n",
              "  <tbody>\n",
              "    <tr>\n",
              "      <th>1</th>\n",
              "      <td>neutral</td>\n",
              "      <td>Technopolis plans to develop in stages an area...</td>\n",
              "      <td>NaN</td>\n",
              "      <td>NaN</td>\n",
              "      <td>NaN</td>\n",
              "      <td>NaN</td>\n",
              "    </tr>\n",
              "    <tr>\n",
              "      <th>2</th>\n",
              "      <td>negative</td>\n",
              "      <td>The international electronic industry company ...</td>\n",
              "      <td>NaN</td>\n",
              "      <td>NaN</td>\n",
              "      <td>NaN</td>\n",
              "      <td>NaN</td>\n",
              "    </tr>\n",
              "    <tr>\n",
              "      <th>3</th>\n",
              "      <td>positive</td>\n",
              "      <td>With the new production plant the company woul...</td>\n",
              "      <td>NaN</td>\n",
              "      <td>NaN</td>\n",
              "      <td>NaN</td>\n",
              "      <td>NaN</td>\n",
              "    </tr>\n",
              "    <tr>\n",
              "      <th>4</th>\n",
              "      <td>positive</td>\n",
              "      <td>According to the company 's updated strategy f...</td>\n",
              "      <td>NaN</td>\n",
              "      <td>NaN</td>\n",
              "      <td>NaN</td>\n",
              "      <td>NaN</td>\n",
              "    </tr>\n",
              "    <tr>\n",
              "      <th>5</th>\n",
              "      <td>positive</td>\n",
              "      <td>FINANCING OF ASPOCOMP 'S GROWTH Aspocomp is ag...</td>\n",
              "      <td>NaN</td>\n",
              "      <td>NaN</td>\n",
              "      <td>NaN</td>\n",
              "      <td>NaN</td>\n",
              "    </tr>\n",
              "  </tbody>\n",
              "</table>\n",
              "</div>\n",
              "      <button class=\"colab-df-convert\" onclick=\"convertToInteractive('df-b177729b-5859-4176-bfbb-20c1bdf6d67e')\"\n",
              "              title=\"Convert this dataframe to an interactive table.\"\n",
              "              style=\"display:none;\">\n",
              "        \n",
              "  <svg xmlns=\"http://www.w3.org/2000/svg\" height=\"24px\"viewBox=\"0 0 24 24\"\n",
              "       width=\"24px\">\n",
              "    <path d=\"M0 0h24v24H0V0z\" fill=\"none\"/>\n",
              "    <path d=\"M18.56 5.44l.94 2.06.94-2.06 2.06-.94-2.06-.94-.94-2.06-.94 2.06-2.06.94zm-11 1L8.5 8.5l.94-2.06 2.06-.94-2.06-.94L8.5 2.5l-.94 2.06-2.06.94zm10 10l.94 2.06.94-2.06 2.06-.94-2.06-.94-.94-2.06-.94 2.06-2.06.94z\"/><path d=\"M17.41 7.96l-1.37-1.37c-.4-.4-.92-.59-1.43-.59-.52 0-1.04.2-1.43.59L10.3 9.45l-7.72 7.72c-.78.78-.78 2.05 0 2.83L4 21.41c.39.39.9.59 1.41.59.51 0 1.02-.2 1.41-.59l7.78-7.78 2.81-2.81c.8-.78.8-2.07 0-2.86zM5.41 20L4 18.59l7.72-7.72 1.47 1.35L5.41 20z\"/>\n",
              "  </svg>\n",
              "      </button>\n",
              "      \n",
              "  <style>\n",
              "    .colab-df-container {\n",
              "      display:flex;\n",
              "      flex-wrap:wrap;\n",
              "      gap: 12px;\n",
              "    }\n",
              "\n",
              "    .colab-df-convert {\n",
              "      background-color: #E8F0FE;\n",
              "      border: none;\n",
              "      border-radius: 50%;\n",
              "      cursor: pointer;\n",
              "      display: none;\n",
              "      fill: #1967D2;\n",
              "      height: 32px;\n",
              "      padding: 0 0 0 0;\n",
              "      width: 32px;\n",
              "    }\n",
              "\n",
              "    .colab-df-convert:hover {\n",
              "      background-color: #E2EBFA;\n",
              "      box-shadow: 0px 1px 2px rgba(60, 64, 67, 0.3), 0px 1px 3px 1px rgba(60, 64, 67, 0.15);\n",
              "      fill: #174EA6;\n",
              "    }\n",
              "\n",
              "    [theme=dark] .colab-df-convert {\n",
              "      background-color: #3B4455;\n",
              "      fill: #D2E3FC;\n",
              "    }\n",
              "\n",
              "    [theme=dark] .colab-df-convert:hover {\n",
              "      background-color: #434B5C;\n",
              "      box-shadow: 0px 1px 3px 1px rgba(0, 0, 0, 0.15);\n",
              "      filter: drop-shadow(0px 1px 2px rgba(0, 0, 0, 0.3));\n",
              "      fill: #FFFFFF;\n",
              "    }\n",
              "  </style>\n",
              "\n",
              "      <script>\n",
              "        const buttonEl =\n",
              "          document.querySelector('#df-b177729b-5859-4176-bfbb-20c1bdf6d67e button.colab-df-convert');\n",
              "        buttonEl.style.display =\n",
              "          google.colab.kernel.accessAllowed ? 'block' : 'none';\n",
              "\n",
              "        async function convertToInteractive(key) {\n",
              "          const element = document.querySelector('#df-b177729b-5859-4176-bfbb-20c1bdf6d67e');\n",
              "          const dataTable =\n",
              "            await google.colab.kernel.invokeFunction('convertToInteractive',\n",
              "                                                     [key], {});\n",
              "          if (!dataTable) return;\n",
              "\n",
              "          const docLinkHtml = 'Like what you see? Visit the ' +\n",
              "            '<a target=\"_blank\" href=https://colab.research.google.com/notebooks/data_table.ipynb>data table notebook</a>'\n",
              "            + ' to learn more about interactive tables.';\n",
              "          element.innerHTML = '';\n",
              "          dataTable['output_type'] = 'display_data';\n",
              "          await google.colab.output.renderOutput(dataTable, element);\n",
              "          const docLink = document.createElement('div');\n",
              "          docLink.innerHTML = docLinkHtml;\n",
              "          element.appendChild(docLink);\n",
              "        }\n",
              "      </script>\n",
              "    </div>\n",
              "  </div>\n",
              "  "
            ],
            "text/plain": [
              "     target                                                ids  date  flag   \n",
              "1   neutral  Technopolis plans to develop in stages an area...   NaN   NaN  \\\n",
              "2  negative  The international electronic industry company ...   NaN   NaN   \n",
              "3  positive  With the new production plant the company woul...   NaN   NaN   \n",
              "4  positive  According to the company 's updated strategy f...   NaN   NaN   \n",
              "5  positive  FINANCING OF ASPOCOMP 'S GROWTH Aspocomp is ag...   NaN   NaN   \n",
              "\n",
              "   user  text  \n",
              "1   NaN   NaN  \n",
              "2   NaN   NaN  \n",
              "3   NaN   NaN  \n",
              "4   NaN   NaN  \n",
              "5   NaN   NaN  "
            ]
          },
          "execution_count": 5,
          "metadata": {},
          "output_type": "execute_result"
        }
      ],
      "source": [
        "print(\"Dataset size:\", len(df))\n",
        "df.head(5)"
      ]
    },
    {
      "cell_type": "code",
      "execution_count": null,
      "metadata": {
        "id": "75anNzW7txom"
      },
      "outputs": [],
      "source": [
        "decode_map = {0: \"NEGATIVE\", 2: \"NEUTRAL\", 4: \"POSITIVE\"}\n",
        "def decode_sentiment(label):\n",
        "    return decode_map[int(label)]"
      ]
    },
    {
      "cell_type": "code",
      "execution_count": null,
      "metadata": {
        "colab": {
          "base_uri": "https://localhost:8080/"
        },
        "id": "l6lOTq28t1vj",
        "outputId": "a1e0bd01-d2fe-43a8-ff43-328aa26ff3eb"
      },
      "outputs": [
        {
          "name": "stdout",
          "output_type": "stream",
          "text": [
            "CPU times: user 388 ms, sys: 14.3 ms, total: 402 ms\n",
            "Wall time: 401 ms\n"
          ]
        }
      ],
      "source": [
        "%%time\n",
        "df.target = df.target.apply(lambda x: decode_sentiment(x))"
      ]
    },
    {
      "cell_type": "code",
      "execution_count": null,
      "metadata": {
        "colab": {
          "base_uri": "https://localhost:8080/",
          "height": 359
        },
        "id": "skI0okP_uR_5",
        "outputId": "24feb2ab-539a-4454-c940-05c80b8d757e"
      },
      "outputs": [
        {
          "data": {
            "text/plain": [
              "Text(0.5, 1.0, 'Dataset labels distribuition')"
            ]
          },
          "execution_count": 22,
          "metadata": {},
          "output_type": "execute_result"
        },
        {
          "data": {
            "image/png": "[encoded data removed]",
            "text/plain": [
              "<Figure size 1600x800 with 1 Axes>"
            ]
          },
          "metadata": {},
          "output_type": "display_data"
        }
      ],
      "source": [
        "target_cnt = Counter(df.target)\n",
        "\n",
        "plt.figure(figsize=(16,8))\n",
        "plt.bar(target_cnt.keys(), target_cnt.values())\n",
        "plt.title(\"Dataset labels distribuition\")"
      ]
    },
    {
      "cell_type": "code",
      "execution_count": null,
      "metadata": {
        "id": "eKooBygKucfL"
      },
      "outputs": [],
      "source": [
        "stop_words = stopwords.words(\"english\")\n",
        "stemmer = SnowballStemmer(\"english\")"
      ]
    },
    {
      "cell_type": "code",
      "execution_count": null,
      "metadata": {
        "id": "mUGXQOqguheX"
      },
      "outputs": [],
      "source": [
        "def preprocess(text, stem=False):\n",
        "    # Remove link,user and special characters\n",
        "    text = re.sub(TEXT_CLEANING_RE, ' ', str(text).lower()).strip()\n",
        "    tokens = []\n",
        "    for token in text.split():\n",
        "        if token not in stop_words:\n",
        "            if stem:\n",
        "                tokens.append(stemmer.stem(token))\n",
        "            else:\n",
        "                tokens.append(token)\n",
        "    return \" \".join(tokens)"
      ]
    },
    {
      "cell_type": "code",
      "execution_count": null,
      "metadata": {
        "colab": {
          "base_uri": "https://localhost:8080/"
        },
        "id": "hM6NRZG2ulPP",
        "outputId": "dc5bb651-acb6-4e84-89f5-df2e656b6a84"
      },
      "outputs": [
        {
          "name": "stdout",
          "output_type": "stream",
          "text": [
            "CPU times: user 52.4 s, sys: 162 ms, total: 52.6 s\n",
            "Wall time: 52.9 s\n"
          ]
        }
      ],
      "source": [
        "%%time\n",
        "df.text = df.text.apply(lambda x: preprocess(x))"
      ]
    },
    {
      "cell_type": "code",
      "execution_count": null,
      "metadata": {
        "colab": {
          "base_uri": "https://localhost:8080/"
        },
        "id": "0TPn660Iu7zw",
        "outputId": "b25d5578-1dad-4c39-9c37-3869a6596e5d"
      },
      "outputs": [
        {
          "name": "stdout",
          "output_type": "stream",
          "text": [
            "TRAIN size: 1240461\n",
            "TEST size: 310116\n"
          ]
        }
      ],
      "source": [
        "df_train, df_test = train_test_split(df, test_size=1-TRAIN_SIZE, random_state=42)\n",
        "print(\"TRAIN size:\", len(df_train))\n",
        "print(\"TEST size:\", len(df_test))"
      ]
    },
    {
      "cell_type": "code",
      "execution_count": null,
      "metadata": {
        "colab": {
          "base_uri": "https://localhost:8080/"
        },
        "id": "HTXXIYmtvHeE",
        "outputId": "6271f0f7-f3e1-427e-b3bd-9eabf130b4b0"
      },
      "outputs": [
        {
          "name": "stdout",
          "output_type": "stream",
          "text": [
            "CPU times: user 4.9 s, sys: 518 ms, total: 5.42 s\n",
            "Wall time: 5.47 s\n"
          ]
        }
      ],
      "source": [
        "%%time\n",
        "documents = [_text.split() for _text in df_train.text] "
      ]
    },
    {
      "cell_type": "code",
      "execution_count": null,
      "metadata": {
        "id": "UWxh5nMLvaod"
      },
      "outputs": [],
      "source": [
        "w2v_model = gensim.models.word2vec.Word2Vec(vector_size=W2V_SIZE, \n",
        "                                            window=W2V_WINDOW, \n",
        "                                            min_count=W2V_MIN_COUNT, \n",
        "                                            workers=8)"
      ]
    },
    {
      "cell_type": "code",
      "execution_count": null,
      "metadata": {
        "id": "ZJCD4EM1v2_o"
      },
      "outputs": [],
      "source": [
        "w2v_model.build_vocab(documents)"
      ]
    },
    {
      "cell_type": "code",
      "execution_count": null,
      "metadata": {
        "colab": {
          "base_uri": "https://localhost:8080/"
        },
        "id": "g7_UPzStwALl",
        "outputId": "f1cbae41-6d78-45cf-d08f-45ee38601082"
      },
      "outputs": [
        {
          "name": "stdout",
          "output_type": "stream",
          "text": [
            "Vocab size 29837\n"
          ]
        }
      ],
      "source": [
        "words = w2v_model.wv.key_to_index.keys()\n",
        "vocab_size = len(words)\n",
        "print(\"Vocab size\", vocab_size)"
      ]
    },
    {
      "cell_type": "code",
      "execution_count": null,
      "metadata": {
        "colab": {
          "base_uri": "https://localhost:8080/"
        },
        "id": "f2oP4RAMwf4a",
        "outputId": "98163353-f428-4cdc-847b-65c184c12740"
      },
      "outputs": [
        {
          "name": "stdout",
          "output_type": "stream",
          "text": [
            "CPU times: user 19min 36s, sys: 5.35 s, total: 19min 41s\n",
            "Wall time: 11min 40s\n"
          ]
        },
        {
          "data": {
            "text/plain": [
              "(254805768, 286174944)"
            ]
          },
          "execution_count": 34,
          "metadata": {},
          "output_type": "execute_result"
        }
      ],
      "source": [
        "%%time\n",
        "w2v_model.train(documents, total_examples=len(documents), epochs=W2V_EPOCH)"
      ]
    },
    {
      "cell_type": "code",
      "execution_count": null,
      "metadata": {
        "colab": {
          "base_uri": "https://localhost:8080/"
        },
        "id": "JoOmsXqRzh_9",
        "outputId": "c8072fff-11df-4acc-9cb3-361b9d2eebbe"
      },
      "outputs": [
        {
          "data": {
            "text/plain": [
              "[('luv', 0.5699703693389893),\n",
              " ('loves', 0.5590293407440186),\n",
              " ('adore', 0.5260383486747742),\n",
              " ('loved', 0.5111199617385864),\n",
              " ('looove', 0.5105167031288147),\n",
              " ('amazing', 0.5007098317146301),\n",
              " ('loove', 0.47922542691230774),\n",
              " ('loooove', 0.4576335549354553),\n",
              " ('lovee', 0.44742920994758606),\n",
              " ('awesome', 0.44323864579200745)]"
            ]
          },
          "execution_count": 35,
          "metadata": {},
          "output_type": "execute_result"
        }
      ],
      "source": [
        "w2v_model.wv.most_similar(\"love\")"
      ]
    },
    {
      "cell_type": "code",
      "execution_count": null,
      "metadata": {
        "colab": {
          "base_uri": "https://localhost:8080/"
        },
        "id": "0Akvb8-fzt5Q",
        "outputId": "50604e50-7212-423b-9be2-77b9628d6d3b"
      },
      "outputs": [
        {
          "name": "stdout",
          "output_type": "stream",
          "text": [
            "Total words 285728\n",
            "CPU times: user 18.9 s, sys: 133 ms, total: 19 s\n",
            "Wall time: 19.1 s\n"
          ]
        }
      ],
      "source": [
        "%%time\n",
        "tokenizer = Tokenizer()\n",
        "tokenizer.fit_on_texts(df_train.text)\n",
        "\n",
        "vocab_size = len(tokenizer.word_index) + 1\n",
        "print(\"Total words\", vocab_size)"
      ]
    },
    {
      "cell_type": "code",
      "execution_count": null,
      "metadata": {
        "colab": {
          "base_uri": "https://localhost:8080/"
        },
        "id": "RGZzlSYQz3t6",
        "outputId": "3b13691f-5de0-45f9-d0b1-6307b2c95197"
      },
      "outputs": [
        {
          "name": "stdout",
          "output_type": "stream",
          "text": [
            "CPU times: user 30.8 s, sys: 849 ms, total: 31.6 s\n",
            "Wall time: 38.6 s\n"
          ]
        }
      ],
      "source": [
        "%%time\n",
        "x_train = pad_sequences(tokenizer.texts_to_sequences(df_train.text), maxlen=SEQUENCE_LENGTH)\n",
        "x_test = pad_sequences(tokenizer.texts_to_sequences(df_test.text), maxlen=SEQUENCE_LENGTH)"
      ]
    },
    {
      "cell_type": "code",
      "execution_count": null,
      "metadata": {
        "colab": {
          "base_uri": "https://localhost:8080/"
        },
        "id": "xzpQH6j01QtV",
        "outputId": "dba15eae-923a-422b-d0e1-5cb964869c53"
      },
      "outputs": [
        {
          "data": {
            "text/plain": [
              "['POSITIVE', 'NEGATIVE', 'NEUTRAL']"
            ]
          },
          "execution_count": 44,
          "metadata": {},
          "output_type": "execute_result"
        }
      ],
      "source": [
        "labels = df_train.target.unique().tolist()\n",
        "labels.append(NEUTRAL)\n",
        "labels"
      ]
    },
    {
      "cell_type": "code",
      "execution_count": null,
      "metadata": {
        "colab": {
          "base_uri": "https://localhost:8080/"
        },
        "id": "aj6SoAkb1Vp7",
        "outputId": "e100c7b8-19d6-499d-94b5-4259842fcbb6"
      },
      "outputs": [
        {
          "name": "stdout",
          "output_type": "stream",
          "text": [
            "y_train (1240461, 1)\n",
            "y_test (310116, 1)\n"
          ]
        }
      ],
      "source": [
        "encoder = LabelEncoder()\n",
        "encoder.fit(df_train.target.tolist())\n",
        "\n",
        "y_train = encoder.transform(df_train.target.tolist())\n",
        "y_test = encoder.transform(df_test.target.tolist())\n",
        "\n",
        "y_train = y_train.reshape(-1,1)\n",
        "y_test = y_test.reshape(-1,1)\n",
        "\n",
        "print(\"y_train\",y_train.shape)\n",
        "print(\"y_test\",y_test.shape)"
      ]
    },
    {
      "cell_type": "code",
      "execution_count": null,
      "metadata": {
        "colab": {
          "base_uri": "https://localhost:8080/"
        },
        "id": "xqJVHAod1bj2",
        "outputId": "26d59ac0-6351-4ef6-8215-71fee20395c6"
      },
      "outputs": [
        {
          "name": "stdout",
          "output_type": "stream",
          "text": [
            "x_train (1240461, 300)\n",
            "y_train (1240461, 1)\n",
            "\n",
            "x_test (310116, 300)\n",
            "y_test (310116, 1)\n"
          ]
        }
      ],
      "source": [
        "print(\"x_train\", x_train.shape)\n",
        "print(\"y_train\", y_train.shape)\n",
        "print()\n",
        "print(\"x_test\", x_test.shape)\n",
        "print(\"y_test\", y_test.shape)"
      ]
    },
    {
      "cell_type": "code",
      "execution_count": null,
      "metadata": {
        "colab": {
          "base_uri": "https://localhost:8080/"
        },
        "id": "1nFNgtmy1ecd",
        "outputId": "95d64115-c6fa-44b2-ca0a-e5d324a79b01"
      },
      "outputs": [
        {
          "data": {
            "text/plain": [
              "array([[1],\n",
              "       [1],\n",
              "       [0],\n",
              "       [1],\n",
              "       [1],\n",
              "       [1],\n",
              "       [0],\n",
              "       [1],\n",
              "       [0],\n",
              "       [1]])"
            ]
          },
          "execution_count": 47,
          "metadata": {},
          "output_type": "execute_result"
        }
      ],
      "source": [
        "y_train[:10]"
      ]
    },
    {
      "cell_type": "code",
      "execution_count": null,
      "metadata": {
        "colab": {
          "base_uri": "https://localhost:8080/"
        },
        "id": "j_oURTW21kAb",
        "outputId": "f5de24eb-ba04-4543-ad3c-1762bacef3a6"
      },
      "outputs": [
        {
          "name": "stdout",
          "output_type": "stream",
          "text": [
            "(285728, 300)\n"
          ]
        }
      ],
      "source": [
        "embedding_matrix = np.zeros((vocab_size, W2V_SIZE))\n",
        "for word, i in tokenizer.word_index.items():\n",
        "  if word in w2v_model.wv:\n",
        "    embedding_matrix[i] = w2v_model.wv[word]\n",
        "print(embedding_matrix.shape)"
      ]
    },
    {
      "cell_type": "code",
      "execution_count": null,
      "metadata": {
        "id": "rcxU0AN41o7Q"
      },
      "outputs": [],
      "source": [
        "embedding_layer = Embedding(vocab_size, W2V_SIZE, weights=[embedding_matrix], input_length=SEQUENCE_LENGTH, trainable=False)"
      ]
    },
    {
      "cell_type": "code",
      "execution_count": null,
      "metadata": {
        "colab": {
          "base_uri": "https://localhost:8080/"
        },
        "id": "58OycnfE1tpo",
        "outputId": "21e3b952-e999-4add-eb98-9e0c7d686109"
      },
      "outputs": [
        {
          "name": "stdout",
          "output_type": "stream",
          "text": [
            "Model: \"sequential\"\n",
            "_________________________________________________________________\n",
            " Layer (type)                Output Shape              Param #   \n",
            "=================================================================\n",
            " embedding (Embedding)       (None, 300, 300)          85718400  \n",
            "                                                                 \n",
            " dropout (Dropout)           (None, 300, 300)          0         \n",
            "                                                                 \n",
            " lstm (LSTM)                 (None, 100)               160400    \n",
            "                                                                 \n",
            " dense (Dense)               (None, 1)                 101       \n",
            "                                                                 \n",
            "=================================================================\n",
            "Total params: 85,878,901\n",
            "Trainable params: 160,501\n",
            "Non-trainable params: 85,718,400\n",
            "_________________________________________________________________\n"
          ]
        }
      ],
      "source": [
        "model = Sequential()\n",
        "model.add(embedding_layer)\n",
        "model.add(Dropout(0.5))\n",
        "model.add(LSTM(100, dropout=0.2, recurrent_dropout=0.2))\n",
        "model.add(Dense(1, activation='sigmoid'))\n",
        "\n",
        "model.summary()"
      ]
    },
    {
      "cell_type": "code",
      "execution_count": null,
      "metadata": {
        "id": "Dk3piJZf1zIz"
      },
      "outputs": [],
      "source": [
        "model.compile(loss='binary_crossentropy',\n",
        "              optimizer=\"adam\",\n",
        "              metrics=['accuracy'])"
      ]
    },
    {
      "cell_type": "code",
      "execution_count": null,
      "metadata": {
        "id": "_vxveBk413Rm"
      },
      "outputs": [],
      "source": [
        "callbacks = [ ReduceLROnPlateau(monitor='val_loss', patience=5, cooldown=0),\n",
        "              EarlyStopping(monitor='val_accuracy', min_delta=1e-4, patience=5)]"
      ]
    },
    {
      "cell_type": "code",
      "execution_count": null,
      "metadata": {
        "id": "HR7yI0u42D8J"
      },
      "outputs": [],
      "source": [
        "%%time\n",
        "history = model.fit(x_train, y_train,\n",
        "                    batch_size=BATCH_SIZE,\n",
        "                    epochs=EPOCHS,\n",
        "                    validation_split=0.1,\n",
        "                    verbose=1,\n",
        "                    callbacks=callbacks)"
      ]
    },
    {
      "cell_type": "markdown",
      "metadata": {
        "id": "5bh-mXy_2sAc"
      },
      "source": [
        "310653/310653 [==============================] - 113s 352us/step\n",
        "\n",
        "ACCURACY: 0.791134375 \n",
        "\n",
        "LOSS: 0.4442952796936035\n",
        "\n",
        "CPU times: user 2min 25s, sys: 16.9 s,\n",
        "\n",
        "total: 2min 42s\n",
        "\n",
        "Wall time: 1min 52s"
      ]
    },
    {
      "cell_type": "code",
      "execution_count": null,
      "metadata": {
        "id": "Znq2AHQl2uhk"
      },
      "outputs": [],
      "source": [
        "acc = history.history['accuracy']\n",
        "val_acc = history.history['val_accuracy']\n",
        "loss = history.history['loss']\n",
        "val_loss = history.history['val_loss']\n",
        " \n",
        "epochs = range(len(acc))\n",
        " \n",
        "plt.plot(epochs, acc, 'b', label='Training acc')\n",
        "plt.plot(epochs, val_acc, 'r', label='Validation acc')\n",
        "plt.title('Training and validation accuracy')\n",
        "plt.legend()\n",
        " \n",
        "plt.figure()\n",
        " \n",
        "plt.plot(epochs, loss, 'b', label='Training loss')\n",
        "plt.plot(epochs, val_loss, 'r', label='Validation loss')\n",
        "plt.title('Training and validation loss')\n",
        "plt.legend()\n",
        " \n",
        "plt.show()"
      ]
    },
    {
      "cell_type": "markdown",
      "metadata": {
        "id": "2KyzwgPO33dr"
      },
      "source": [
        "![__results___49_0.png](data:image/png;base64,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)"
      ]
    },
    {
      "cell_type": "markdown",
      "metadata": {
        "id": "9E6foyww4Axt"
      },
      "source": [
        "![__results___49_1.png](data:image/png;base64,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)"
      ]
    },
    {
      "cell_type": "code",
      "execution_count": null,
      "metadata": {
        "id": "3uFknxdj4Do6"
      },
      "outputs": [],
      "source": [
        "def decode_sentiment(score, include_neutral=True):\n",
        "    if include_neutral:        \n",
        "        label = NEUTRAL\n",
        "        if score <= SENTIMENT_THRESHOLDS[0]:\n",
        "            label = NEGATIVE\n",
        "        elif score >= SENTIMENT_THRESHOLDS[1]:\n",
        "            label = POSITIVE\n",
        "\n",
        "        return label\n",
        "    else:\n",
        "        return NEGATIVE if score < 0.5 else POSITIVE"
      ]
    },
    {
      "cell_type": "code",
      "execution_count": null,
      "metadata": {
        "id": "12XOI68e4O6z"
      },
      "outputs": [],
      "source": [
        "def predict(text, include_neutral=True):\n",
        "    start_at = time.time()\n",
        "    # Tokenize text\n",
        "    x_test = pad_sequences(tokenizer.texts_to_sequences([text]), maxlen=SEQUENCE_LENGTH)\n",
        "    # Predict\n",
        "    score = model.predict([x_test])[0]\n",
        "    # Decode sentiment\n",
        "    label = decode_sentiment(score, include_neutral=include_neutral)\n",
        "\n",
        "    return {\"label\": label, \"score\": float(score),\n",
        "       \"elapsed_time\": time.time()-start_at}  "
      ]
    },
    {
      "cell_type": "code",
      "execution_count": null,
      "metadata": {
        "id": "HIL9z8uy4VTq"
      },
      "outputs": [],
      "source": [
        "predict(\"I love the music\")"
      ]
    },
    {
      "cell_type": "markdown",
      "metadata": {
        "id": "cLw8cjYO4azw"
      },
      "source": [
        "{'label': 'POSITIVE',\n",
        "\n",
        " 'score': 0.9656286239624023,\n",
        " \n",
        " 'elapsed_time': 0.4439425468444824}"
      ]
    },
    {
      "cell_type": "code",
      "execution_count": null,
      "metadata": {
        "id": "cP6uMIyp4ib7"
      },
      "outputs": [],
      "source": [
        "predict(\"I hate the rain\")"
      ]
    },
    {
      "cell_type": "markdown",
      "metadata": {
        "id": "-UmnFhNf4ojN"
      },
      "source": [
        "{'label': 'NEGATIVE',\n",
        "\n",
        " 'score': 0.010753681883215904,\n",
        " \n",
        " 'elapsed_time': 0.26644086837768555}"
      ]
    },
    {
      "cell_type": "code",
      "execution_count": null,
      "metadata": {
        "id": "BkGT7zNe4scL"
      },
      "outputs": [],
      "source": [
        "predict(\"i don't know what i'm doing\")"
      ]
    },
    {
      "cell_type": "markdown",
      "metadata": {
        "id": "VP624l1x4vs_"
      },
      "source": [
        "{'label': 'NEGATIVE',\n",
        "\n",
        " 'score': 0.2742374837398529,\n",
        " \n",
        " 'elapsed_time': 0.25728774070739746}"
      ]
    },
    {
      "cell_type": "code",
      "execution_count": null,
      "metadata": {
        "id": "FDQ1lsUR40jW"
      },
      "outputs": [],
      "source": [
        "%%time\n",
        "y_pred_1d = []\n",
        "y_test_1d = list(df_test.target)\n",
        "scores = model.predict(x_test, verbose=1, batch_size=8000)\n",
        "y_pred_1d = [decode_sentiment(score, include_neutral=False) for score in scores]"
      ]
    },
    {
      "cell_type": "markdown",
      "metadata": {
        "id": "LL4iuJPz45fl"
      },
      "source": [
        "320000/320000 [==============================] - 66s 206us/step\n",
        "\n",
        "CPU times: user 26 s, sys: 3.72 s,\n",
        "\n",
        "total: 29.7 s\n",
        "\n",
        "Wall time: 1min 6s"
      ]
    },
    {
      "cell_type": "code",
      "execution_count": null,
      "metadata": {
        "id": "9MHrp_UQ4-bT"
      },
      "outputs": [],
      "source": [
        "def plot_confusion_matrix(cm, classes,\n",
        "                          title='Confusion matrix',\n",
        "                          cmap=plt.cm.Blues):\n",
        "    \"\"\"\n",
        "    This function prints and plots the confusion matrix.\n",
        "    Normalization can be applied by setting `normalize=True`.\n",
        "    \"\"\"\n",
        "\n",
        "    cm = cm.astype('float') / cm.sum(axis=1)[:, np.newaxis]\n",
        "\n",
        "    plt.imshow(cm, interpolation='nearest', cmap=cmap)\n",
        "    plt.title(title, fontsize=30)\n",
        "    plt.colorbar()\n",
        "    tick_marks = np.arange(len(classes))\n",
        "    plt.xticks(tick_marks, classes, rotation=90, fontsize=22)\n",
        "    plt.yticks(tick_marks, classes, fontsize=22)\n",
        "\n",
        "    fmt = '.2f'\n",
        "    thresh = cm.max() / 2.\n",
        "    for i, j in itertools.product(range(cm.shape[0]), range(cm.shape[1])):\n",
        "        plt.text(j, i, format(cm[i, j], fmt),\n",
        "                 horizontalalignment=\"center\",\n",
        "                 color=\"white\" if cm[i, j] > thresh else \"black\")\n",
        "\n",
        "    plt.ylabel('True label', fontsize=25)\n",
        "    plt.xlabel('Predicted label', fontsize=25)"
      ]
    },
    {
      "cell_type": "code",
      "execution_count": null,
      "metadata": {
        "id": "Z6MmLUmL5D-5"
      },
      "outputs": [],
      "source": [
        "%%time\n",
        "\n",
        "cnf_matrix = confusion_matrix(y_test_1d, y_pred_1d)\n",
        "plt.figure(figsize=(12,12))\n",
        "plot_confusion_matrix(cnf_matrix, classes=df_train.target.unique(), title=\"Confusion matrix\")\n",
        "plt.show()"
      ]
    },
    {
      "cell_type": "markdown",
      "metadata": {
        "id": "zi1xgkmV5IxP"
      },
      "source": [
        "![__results___59_0.png](data:image/png;base64,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)"
      ]
    },
    {
      "cell_type": "markdown",
      "metadata": {
        "id": "Q1YULt2RB-VF"
      },
      "source": [
        "# New section"
      ]
    },
    {
      "cell_type": "markdown",
      "metadata": {
        "id": "dTxgZcD-5LfE"
      },
      "source": [
        "CPU times: user 1.39 s, sys: 256 ms,\n",
        "\n",
        "total: 1.64 s\n",
        "\n",
        "Wall time: 1.38 s"
      ]
    },
    {
      "cell_type": "code",
      "execution_count": null,
      "metadata": {
        "id": "XVQ0i9h-5VEC"
      },
      "outputs": [],
      "source": [
        "print(classification_report(y_test_1d, y_pred_1d))"
      ]
    },
    {
      "cell_type": "markdown",
      "metadata": {
        "id": "ly3tjLmf5ZRa"
      },
      "source": [
        "              precision    recall  f1-score   support\n",
        "\n",
        "    NEGATIVE       0.79      0.79      0.79    159494\n",
        "    POSITIVE       0.79      0.80      0.79    160506\n",
        "\n",
        "  "
      ]
    },
    {
      "cell_type": "markdown",
      "metadata": {
        "id": "qrdpuTZq5l0c"
      },
      "source": [
        "   micro avg       0.79      0.79      0.79    320000\n",
        "\n",
        "   macro avg       0.79      0.79      0.79    320000\n",
        "   \n",
        "weighted avg       0.79      0.79      0.79    320000"
      ]
    },
    {
      "cell_type": "code",
      "execution_count": null,
      "metadata": {
        "id": "QpvYGuoP50LX"
      },
      "outputs": [],
      "source": [
        "accuracy_score(y_test_1d, y_pred_1d)"
      ]
    },
    {
      "cell_type": "markdown",
      "metadata": {
        "id": "wryQk9Sy54DA"
      },
      "source": [
        "0.79113437"
      ]
    },
    {
      "cell_type": "code",
      "execution_count": null,
      "metadata": {
        "id": "ex6GvluL58iU"
      },
      "outputs": [],
      "source": [
        "model.save(KERAS_MODEL)\n",
        "w2v_model.save(WORD2VEC_MODEL)\n",
        "pickle.dump(tokenizer, open(TOKENIZER_MODEL, \"wb\"), protocol=0)\n",
        "pickle.dump(encoder, open(ENCODER_MODEL, \"wb\"), protocol=0)"
      ]
    }
  ],
  "metadata": {
    "colab": {
      "provenance": [],
      "authorship_tag": "ABX9TyNCv/V0e6dDSYcCNRm3/RO7",
      "include_colab_link": true
    },
    "kernelspec": {
      "display_name": "Python 3",
      "name": "python3"
    },
    "language_info": {
      "name": "python"
    }
  },
  "nbformat": 4,
  "nbformat_minor": 0
}